{
  "cells": [
    {
      "cell_type": "markdown",
      "source": [
        "\n",
        "AAKASH DESHMANE\n",
        "UIN : 133008022\n",
        "ECEN 743 ASSIGNMENT 5\n",
        "POLICY GRADIENT IMPLEMENTATION OF MOUNTAIN CAR CONTINUOUS"
      ],
      "metadata": {
        "id": "z8rZr-gsDeh4"
      }
    },
    {
      "cell_type": "code",
      "execution_count": null,
      "metadata": {
        "id": "rWYr0YVIDao3"
      },
      "outputs": [],
      "source": [
        "import gymnasium as gym\n",
        "import random\n",
        "import torch\n",
        "import torch.nn as nn\n",
        "import torch.nn.functional as F\n",
        "import torch.optim as optim\n",
        "import argparse\n",
        "import numpy as np\n",
        "import math\n",
        "from collections import deque\n",
        "import matplotlib.pyplot as plt"
      ]
    },
    {
      "cell_type": "markdown",
      "source": [
        "VALUE NETWORK"
      ],
      "metadata": {
        "id": "w4kWvs35DkOv"
      }
    },
    {
      "cell_type": "code",
      "execution_count": null,
      "metadata": {
        "id": "1IrH79WxDao6"
      },
      "outputs": [],
      "source": [
        "class value_network(nn.Module):\n",
        "\t'''\n",
        "\tValue Network: Designed to take in state as input and give value as output\n",
        "\tUsed as a baseline in Policy Gradient (PG) algorithms\n",
        "\t'''\n",
        "\tdef __init__(self,state_dim):\n",
        "\t\t'''\n",
        "\t\t\tstate_dim (int): state dimenssion\n",
        "\t\t'''\n",
        "\t\tsuper(value_network, self).__init__()\n",
        "\t\tself.l1 = nn.Linear(state_dim, 128)\n",
        "\t\tself.l2 = nn.Linear(128, 64)\n",
        "\t\tself.l3 = nn.Linear(64, 1)\n",
        "\n",
        "\tdef forward(self,state):\n",
        "\t\t'''\n",
        "\t\tInput: State\n",
        "\t\tOutput: Value of state\n",
        "\t\t'''\n",
        "\t\tv = F.tanh(self.l1(state))\n",
        "\t\tv = F.tanh(self.l2(v))\n",
        "\t\treturn self.l3(v)"
      ]
    },
    {
      "cell_type": "markdown",
      "source": [
        "POLICY NETWORK"
      ],
      "metadata": {
        "id": "ZtqfP0QWDmq3"
      }
    },
    {
      "cell_type": "code",
      "execution_count": null,
      "metadata": {
        "id": "ro4Ri5v9Dao7"
      },
      "outputs": [],
      "source": [
        "class policy_network(nn.Module):\n",
        "\t'''\n",
        "\tPolicy Network: Designed for continous action space, where given a \n",
        "\tstate, the network outputs the mean and standard deviation of the action\n",
        "\t'''\n",
        "\tdef __init__(self,state_dim,action_dim,log_std = 0.0):\n",
        "\t\t\"\"\"\n",
        "\t\t\tstate_dim (int): state dimenssion\n",
        "\t\t\taction_dim (int): action dimenssion\n",
        "\t\t\tlog_std (float): log of standard deviation (std)\n",
        "\t\t\"\"\"\n",
        "\t\tsuper(policy_network, self).__init__()\n",
        "\t\tself.state_dim = state_dim\n",
        "\t\tself.action_dim = action_dim\n",
        "\t\tself.l1 = nn.Linear(state_dim,64)\n",
        "\t\tself.l2 = nn.Linear(64,64)\n",
        "\t\t#self.l3 = nn.Linear(64,64)\n",
        "\t\t#self.l4 = nn.Linear(64,64)\n",
        "\t\tself.mean = nn.Linear(64,action_dim)\n",
        "\t\tself.log_std = nn.Parameter(torch.ones(1, action_dim) * log_std)\n",
        "\t\t\n",
        "\t\n",
        "\tdef forward(self,state):\n",
        "\t\t'''\n",
        "\t\tInput: State\n",
        "\t\tOutput: Mean, log_std and std of action\n",
        "\t\t'''\n",
        "\t\ta = F.tanh(self.l1(state))\n",
        "\t\ta = F.tanh(self.l2(a))\n",
        "\t\ta_mean = self.mean(a)\n",
        "\t\ta_log_std = self.log_std.expand_as(a_mean)\n",
        "\t\ta_std = torch.exp(a_log_std)\t\t\n",
        "\t\treturn a_mean, a_log_std, a_std\n",
        "\n",
        "\tdef select_action(self, state):\n",
        "\t\t'''\n",
        "\t\tInput: State\n",
        "\t\tOutput: Sample drawn from a normal disribution with mean and std\n",
        "\t\t'''\n",
        "\n",
        "\t\t\n",
        "\t\ta_mean, _, a_std = self.forward(state)\n",
        "\t\taction = torch.normal(a_mean)\n",
        "\t\treturn action\n",
        "\t\n",
        "\tdef get_log_prob(self, state, action):\n",
        "\t\t'''\n",
        "\t\tInput: State, Action\n",
        "\t\tOutput: log probabilities\n",
        "\t\t'''\n",
        "\t\tmean, log_std, std = self.forward(state)\n",
        "\t\tvar = std.pow(2)\n",
        "\t\tlog_density = -(action - mean).pow(2) / (2 * var) - 0.5 * math.log(2 * math.pi) - log_std\n",
        "\t\treturn log_density.sum(1, keepdim=True)\n"
      ]
    },
    {
      "cell_type": "code",
      "execution_count": null,
      "metadata": {
        "id": "UofIczNsDao8"
      },
      "outputs": [],
      "source": [
        "class PGAgent():\n",
        "\t'''\n",
        "\tAn agent that performs different variants of the PG algorithm\n",
        "\t'''\n",
        "\tdef __init__(self,\n",
        "\t state_dim, \n",
        "\t action_dim,\n",
        "\t discount=0.99,\n",
        "\t lr=1e-3,\n",
        "\t gpu_index=0,\n",
        "\t seed=0,\n",
        "\t env=\"LunarLander-v2\"\n",
        "\t ):\n",
        "\t\t\"\"\"\n",
        "\t\t\tstate_size (int): dimension of each state\n",
        "\t\t\taction_size (int): dimension of each action\n",
        "\t\t\tdiscount (float): discount factor\n",
        "\t\t\tlr (float): learning rate\n",
        "\t\t\tgpu_index (int): GPU used for training\n",
        "\t\t\tseed (int): Seed of simulation\n",
        "\t\t\tenv (str): Name of environment\n",
        "\t\t\"\"\"\n",
        "\t\tself.state_dim = state_dim\n",
        "\t\tself.action_dim = action_dim\n",
        "\t\tself.discount = discount\n",
        "\t\tself.lr = lr\n",
        "\t\tself.device = torch.device('cuda', index=gpu_index) if torch.cuda.is_available() else torch.device('cpu')\n",
        "\t\tself.env_name = env\n",
        "\t\tself.seed = seed\n",
        "\t\tself.policy = policy_network(state_dim,action_dim)\n",
        "\t\tself.value = value_network(state_dim)\n",
        "\t\tself.optimizer_policy = torch.optim.Adam(self.policy.parameters(), lr=self.lr)\n",
        "\t\tself.optimizer_value = torch.optim.Adam(self.value.parameters(), lr=self.lr)\n",
        "\n",
        "\tdef sample_traj(self,batch_size=4000,evaluate = False):\n",
        "\t\t'''\n",
        "\t\tInput: \n",
        "\t\t\tbatch_size: minimum batch size needed for update\n",
        "\t\t\tevaluate: flag to be set during evaluation\n",
        "\t\tOutput:\n",
        "\t\t\tstates, actions, rewards,not_dones, episodic reward \t\n",
        "\t\t'''\n",
        "\t\tself.policy.to(\"cpu\") #Move network to CPU for sampling\n",
        "\t\tenv = gym.make(self.env_name)\n",
        "\t\tstates = []\n",
        "\t\tactions = []\n",
        "\t\trewards = []\n",
        "\t\tn_dones = []\n",
        "\t\tcurr_reward_list = []\n",
        "\t\twhile len(states) < batch_size:\n",
        "\t\t\tstate, _ = env.reset(seed=self.seed)\n",
        "\t\t\tcurr_reward = 0\n",
        "\t\t\tfor t in range(1000):\n",
        "\t\t\t\tstate_ten = torch.from_numpy(state).float().unsqueeze(0)\n",
        "\t\t\t\twith torch.no_grad():\n",
        "\t\t\t\t\tif evaluate:\n",
        "\t\t\t\t\t\taction = self.policy(state_ten)[0][0].numpy() # Take mean action during evaluation\n",
        "\t\t\t\t\telse:\n",
        "\t\t\t\t\t\taction = self.policy.select_action(state_ten)[0].numpy() # Sample from distribution during training\n",
        "\t\t\t\taction = action.astype(np.float32)\n",
        "\t\t\t\tn_state,reward,terminated,truncated,_ = env.step(action) # Execute action in the environment\n",
        "\t\t\t\tdone = terminated or truncated\n",
        "\t\t\t\tstates.append(state)\n",
        "\t\t\t\tactions.append(action)\n",
        "\t\t\t\trewards.append(reward)\n",
        "\t\t\t\tn_done = 0 if done else 1\n",
        "\t\t\t\tn_dones.append(n_done)\n",
        "\t\t\t\tstate = n_state\n",
        "\t\t\t\tcurr_reward += reward\n",
        "\t\t\t\tif done:\n",
        "\t\t\t\t\tbreak\n",
        "\t\t\tcurr_reward_list.append(curr_reward)\n",
        "\t\tif evaluate:\n",
        "\t\t\treturn np.mean(curr_reward_list)\n",
        "\t\treturn states,actions,rewards,n_dones, np.mean(curr_reward_list)\n",
        "\t\n",
        "\n",
        "\n",
        "\n",
        "\tdef update(self,states,actions,rewards,n_dones,update_type='Baseline'):\n",
        "\n",
        "\t\tself.policy.to(self.device) #Move policy to GPU\n",
        "\t\tif update_type == \"Baseline\":\n",
        "\t\t\tself.value.to(self.device)\t#Move value to GPU\n",
        "\t\tstates_ten = torch.from_numpy(np.stack(states)).to(self.device)   #Convert to tensor and move to GPU\n",
        "\t\taction_ten = torch.from_numpy(np.stack(actions)).to(self.device)  #Convert to tensor and move to GPU\n",
        "\t\trewards_ten = torch.from_numpy(np.stack(rewards)).to(self.device) #Convert to tensor and move to GPU\n",
        "\t\tn_dones_ten = torch.from_numpy(np.stack(n_dones)).to(self.device) #Convert to tensor and move to GPU\n",
        "\n",
        "\t\t\n",
        "\t\tif update_type == \"Rt\":\n",
        "\n",
        "\t\t\trt = torch.zeros(rewards_ten.shape[0],1).to(self.device)\n",
        "\t\t\trt_accum = 0\n",
        "\t\t\tfor t in reversed(range(rewards_ten.shape[0])):\n",
        "\t\t\t\t\trt_accum = rewards_ten[t] + rt_accum * self.discount *n_dones_ten[t]\n",
        "\t\t\t\t\trt[t] = rt_accum\n",
        "\n",
        "\t\t\tlog_prob = self.policy.get_log_prob(states_ten, action_ten)\n",
        "\t\t\tpolicy_loss = -(log_prob * rt.detach()).mean()\n",
        "\n",
        "\t\t\tself.optimizer_policy.zero_grad()\n",
        "\t\t\tpolicy_loss.backward()\n",
        "\t\t\tself.optimizer_policy.step()\n",
        "\n",
        "\t\tif update_type == 'Gt':\n",
        "\t\t\tgt = torch.zeros(rewards_ten.shape[0],1).to(self.device)\n",
        "\t\t\tg = 0\n",
        "\t\t\tfor i in reversed(range(rewards_ten.size(0))):\n",
        "\t\t\t\tg = rewards_ten[i] + self.discount * g *(n_dones_ten[i])\n",
        "\t\t\t\tgt[i] = g\n",
        "\n",
        "\t\t\tgt = (gt - gt.mean()) / gt.std() #Helps with learning stablity\n",
        "\t\t\tlog_prob = self.policy.get_log_prob(states_ten, action_ten)\n",
        "\t\t\tpolicy_loss = -(log_prob * gt.detach()).mean()\n",
        "\n",
        "\t\t\tself.optimizer_policy.zero_grad()\n",
        "\t\t\tpolicy_loss.backward()\n",
        "\t\t\tself.optimizer_policy.step()\n",
        "\n",
        "\t\tif update_type == 'Gt_with_Baseline':\n",
        "\t\t\t'''\n",
        "\t\t\tTODO: Peform PG using reward_to_go and baseline\n",
        "\t\t\t1. Compute values of states, this will be used as the baseline \n",
        "\t\t\t2. Compute reward_to_go (gt) using rewards_ten and n_dones_ten\n",
        "\t\t\t3. gt should be of the same length as rewards_ten\n",
        "\t\t\t4. Compute advantages \n",
        "\t\t\t5. Update the value network to predict gt for each state (L2 norm)\n",
        "\t\t\t6. Compute log probabilities using states_ten and action_ten\n",
        "\t\t\t7. Compute policy loss (using advantages) and update the policy\n",
        "\t\t\t'''\n",
        "\t\t\tstate_t = torch.FloatTensor(states).to(self.device)\n",
        "\n",
        "\t\t\t# STEP 1 CALCULATE VALUES  \n",
        "\t\t\twith torch.no_grad():\n",
        "\t\t\t\t\tself.value.to(self.device)\n",
        "\t\t\t\t\tval = self.value(states_ten).to(self.device)\n",
        "\n",
        "\t\t\t# gt SHOULD HAVE THE SAME LENGTH AS rewards_ten\t\n",
        "\t\t\tgt = torch.zeros(rewards_ten.shape[0],1).to(self.device)\n",
        "\t \n",
        "\t\t\tg=0\n",
        "\n",
        "\t\t\t# STEP 2 : COMPUTE REWARD-TO-GO (gt) and ADVANTAGES\n",
        "\t\t\treturns = torch.zeros((rewards_ten.shape[0], 1)).to(self.device)\n",
        "\t\t\tadvantages = torch.zeros((rewards_ten.shape[0], 1)).to(self.device)\n",
        "\t\t\ts = rewards_ten.size(0)\n",
        "\t\t\tfor i in reversed(range(s)):\n",
        "\t\t\t\tg = rewards_ten[i] + self.discount * g * n_dones_ten[i]\n",
        "\t\t\t\tgt[i] = g\n",
        "\n",
        "\t\t\t# STEP 4 : COMPUTE ADVANTAGES\n",
        "\t\t\tadvantages = gt - val\n",
        "\n",
        "\n",
        "\t\t\t# Normalize advantages\n",
        "\t\t\tadvantages = (advantages - advantages.mean()) / advantages.std()\n",
        "\t\t\t\n",
        "\t\t\t# STEP 5 : UPDATE VALUE NETWORK TO PREDICT gt FOR EACH STATE (L2 NORM)\n",
        "\t\t\tloss = torch.nn.MSELoss()\n",
        "\t\t\tvalue_loss = loss(self.value(states_ten), gt)\n",
        "\t\t\tself.optimizer_value.zero_grad()\n",
        "\t\t\tvalue_loss.backward()\n",
        "\t\t\tself.optimizer_value.step()\n",
        "\n",
        "\t\t\t# STEP 6 : COMPUTE LOG PROBABILITIES USING states_ten and Compute log probabilities using states_ten and action_ten\n",
        "\t\t\tlog_probs = self.policy.get_log_prob(states_ten, action_ten)\n",
        "\n",
        "\t\t\t# STEP 7 : COMPUTE POLICY LOSS AND UPDATE POLICY\n",
        "\t\t\tself.optimizer_policy.zero_grad()\n",
        "\t\t\tl = log_probs * advantages.detach()\n",
        "\t\t\tloss = -(l).mean()\n",
        "\t\t\tloss.backward()\n",
        "\t\t\tself.optimizer_policy.step()\n",
        "\t    # _________________________________________________________________________\n"
      ]
    },
    {
      "cell_type": "markdown",
      "source": [
        "RUNNIN MOUNTAIN CAR FOR MORE NUMBER OF ITERATIONS TO ACHIEVE CONVERGENCE\n",
        "HYPERPARAMETERS TUNED TO:\n",
        "* ITERATIONS : 800\n",
        "* DISCOUNT : 0.99\n",
        "* BATCH SIZE : 4000\n",
        "* LEARNING RATE : 8e-4\n"
      ],
      "metadata": {
        "id": "0PSV9Pn8izx7"
      }
    },
    {
      "cell_type": "code",
      "execution_count": null,
      "metadata": {
        "id": "wOxcDCWDDao9",
        "outputId": "54106900-f9aa-41f1-a3ce-3634dda2e758"
      },
      "outputs": [
        {
          "name": "stdout",
          "output_type": "stream",
          "text": [
            "2\n"
          ]
        },
        {
          "name": "stderr",
          "output_type": "stream",
          "text": [
            "/tmp/ipykernel_16353/4280312714.py:122: UserWarning: Creating a tensor from a list of numpy.ndarrays is extremely slow. Please consider converting the list to a single numpy.ndarray with numpy.array() before converting to a tensor. (Triggered internally at ../torch/csrc/utils/tensor_new.cpp:245.)\n",
            "  state_t = torch.FloatTensor(states).to(self.device)\n"
          ]
        },
        {
          "name": "stdout",
          "output_type": "stream",
          "text": [
            "Training Iteration 0 Training Reward: -102.77 Evaluation Reward: -63.52 \tAverage Evaluation Reward: -63.52\n",
            "Training Iteration 100 Training Reward: -94.95 Evaluation Reward: -0.19 \tAverage Evaluation Reward: -0.61\n",
            "Training Iteration 200 Training Reward: -101.77 Evaluation Reward: -1.52 \tAverage Evaluation Reward: -0.89\n",
            "Training Iteration 300 Training Reward: 53.55 Evaluation Reward: 75.41 \tAverage Evaluation Reward: 57.69\n",
            "Training Iteration 400 Training Reward: 55.07 Evaluation Reward: 67.36 \tAverage Evaluation Reward: 81.26\n",
            "Training Iteration 500 Training Reward: 75.35 Evaluation Reward: 82.92 \tAverage Evaluation Reward: 78.08\n",
            "Training Iteration 600 Training Reward: 70.57 Evaluation Reward: 78.63 \tAverage Evaluation Reward: 81.68\n",
            "Training Iteration 700 Training Reward: 72.33 Evaluation Reward: 91.86 \tAverage Evaluation Reward: 80.78\n"
          ]
        },
        {
          "data": {
            "image/png": "[encoded data removed]",
            "text/plain": [
              "<Figure size 640x480 with 1 Axes>"
            ]
          },
          "metadata": {},
          "output_type": "display_data"
        },
        {
          "data": {
            "image/png": "[encoded data removed]",
            "text/plain": [
              "<Figure size 640x480 with 1 Axes>"
            ]
          },
          "metadata": {},
          "output_type": "display_data"
        }
      ],
      "source": [
        "\n",
        "env_type = \"MountainCarContinuous-v0\" # Gymnasium environment name\n",
        "seed=0          # Sets Gym, PyTorch and Numpy seeds\n",
        "n_iter = 800      # Maximum number of training iterations\n",
        "discount = 0.99   # Discount factor\n",
        "batch_size = 4000 # Training samples in each batch of training\n",
        "lr = 8e-3       # Learning rate\n",
        "gpu_index = 0\t\t# GPU index\n",
        "algo = \"Gt_ with_Baseline\"\t\t  # PG algorithm type. Baseline_with_Gt/Gt/Rt\n",
        "\n",
        "\n",
        "# Making the environment\t\n",
        "env = gym.make(env_type)\n",
        "\n",
        "# Setting seeds\n",
        "torch.manual_seed(seed)\n",
        "np.random.seed(seed)\n",
        "random.seed(seed)\n",
        "\n",
        "state_dim = env.observation_space.shape[0]\n",
        "print(state_dim)\n",
        "action_dim = env.action_space.shape[0]\n",
        "\n",
        "kwargs = {\n",
        "\t\"state_dim\":state_dim,\n",
        "\t\"action_dim\":action_dim,\n",
        "\t\"discount\":discount,\n",
        "\t\"lr\":lr,\n",
        "\t\"gpu_index\":gpu_index,\n",
        "\t\"seed\":seed,\n",
        "\t\"env\":env_type\n",
        "}\t\n",
        "learner = PGAgent(**kwargs) # Creating the PG learning agent\n",
        "average_rewards=[]\n",
        "moving_window = deque(maxlen=10)\n",
        "old_reward=-1\n",
        "for e in range(n_iter):\n",
        "\tstates,actions,rewards,n_dones,train_reward = learner.sample_traj(batch_size=batch_size)\n",
        "\tlearner.update(states,actions,rewards,n_dones,algo)\n",
        "\teval_reward= learner.sample_traj(evaluate=True)\n",
        "\tmoving_window.append(eval_reward)\n",
        "\tif not e%100: print('Training Iteration {} Training Reward: {:.2f} Evaluation Reward: {:.2f} \\\n",
        "\tAverage Evaluation Reward: {:.2f}'.format(e,train_reward,eval_reward,np.mean(moving_window)))\n",
        "\t\n",
        "\taverage_rewards.append(np.mean(moving_window))\n",
        "\n",
        "\tif np.mean(moving_window) > old_reward:\n",
        "\t\told_reward = np.mean(moving_window)\n",
        "\t\ttorch.save(learner.policy.state_dict(), (algo + '_checkpoint1.pth'))\n",
        "\n",
        "window_size = 20\n",
        "averages = []\n",
        "fig1=plt.figure()\n",
        "for i in range(len(average_rewards)-window_size + 1):\n",
        "\twindow = average_rewards[i:i+window_size]\n",
        "\taverage = sum(window)/window_size\n",
        "\taverages.append(average)\n",
        "plt.plot(averages)\t\n",
        "plt.show()\n",
        "fig2=plt.figure()\n",
        "\n",
        "plt.plot(average_rewards)\n",
        "plt.ylabel('Episodic Cumulative Reward')\n",
        "plt.xlabel('Episode #')\n",
        "plt.title('Curve for Episodic Cumulative Reward for algorithm = {}'.format(algo))\n",
        "plt.show()\n",
        "\n"
      ]
    },
    {
      "cell_type": "code",
      "execution_count": null,
      "metadata": {
        "id": "Ab4VZMzGDao-"
      },
      "outputs": [],
      "source": []
    },
    {
      "cell_type": "markdown",
      "source": [
        "THE CODE BELOW IS JUST TO EXPORT THE VIDEO AND DOES NOT TAKE PART IN THE ALGORITHM"
      ],
      "metadata": {
        "id": "X3hsqHBKjxW0"
      }
    },
    {
      "cell_type": "code",
      "execution_count": null,
      "metadata": {
        "id": "Z_f10q5yAc19"
      },
      "outputs": [],
      "source": [
        " #For visualization\n",
        "import gymnasium as gym\n",
        "from gym.wrappers.monitoring import video_recorder\n",
        "from IPython.display import HTML\n",
        "from IPython import display \n",
        "import glob\n",
        "import cv2"
      ]
    },
    {
      "cell_type": "markdown",
      "source": [
        "VIDEO FUNCTION"
      ],
      "metadata": {
        "id": "KUtuVB8fj8FD"
      }
    },
    {
      "cell_type": "code",
      "execution_count": null,
      "metadata": {
        "id": "fxlzJYd3Adl1"
      },
      "outputs": [],
      "source": [
        "def video_fn(agent, env_name, algo):\n",
        "    env = gym.make(env_name, render_mode=\"rgb_array\")\n",
        "    fourcc = cv2.VideoWriter_fourcc(*'mp4v')\n",
        "    video = cv2.VideoWriter(algo+'_video.mp4', fourcc, 30, (600, 400))\n",
        "    agent.policy.load_state_dict(torch.load(algo+\"_checkpoint.pth\"))\n",
        "    agent.policy.eval()\n",
        "    state, _= env.reset()\n",
        "    done = False\n",
        "    while not done:\n",
        "        frame = env.render()\n",
        "        video.write(frame)\n",
        "        state_ten = torch.from_numpy(state).float().unsqueeze(0)\n",
        "        action = agent.policy.select_action(state_ten)[0].detach().numpy()\n",
        "        action = action.astype(np.float64)\n",
        "        n_state, reward, terminated, truncated, _ = env.step(action)\n",
        "        done = terminated or truncated \n",
        "        state = n_state\n",
        "    env.close()\n",
        "    video.release()\n"
      ]
    },
    {
      "cell_type": "markdown",
      "source": [
        "EXPORTING VIDEO"
      ],
      "metadata": {
        "id": "MdQMin9cj_VU"
      }
    },
    {
      "cell_type": "code",
      "execution_count": null,
      "metadata": {
        "id": "VaXrD0AEAgs2"
      },
      "outputs": [],
      "source": [
        "env_type = \"MountainCarContinuous\"\n",
        "env = gym.make(env_type)\n",
        "state_dim = env.observation_space.shape[0]\n",
        "action_dim = env.action_space.shape[0]\n",
        "plotter_agent = PGAgent(state_dim,action_dim)\n",
        "#video_fn(plotter_agent, \"MountainCarContinuous\", \"Rt\")\n",
        "#video_fn(plotter_agent, \"MountainCarContinuous\", \"Gt\")\n",
        "video_fn(plotter_agent, \"MountainCarContinuous\", \"Gt_with_Baseline\")"
      ]
    }
  ],
  "metadata": {
    "kernelspec": {
      "display_name": "Python 3",
      "language": "python",
      "name": "python3"
    },
    "language_info": {
      "codemirror_mode": {
        "name": "ipython",
        "version": 3
      },
      "file_extension": ".py",
      "mimetype": "text/x-python",
      "name": "python",
      "nbconvert_exporter": "python",
      "pygments_lexer": "ipython3",
      "version": "3.8.10"
    },
    "orig_nbformat": 4,
    "colab": {
      "provenance": []
    }
  },
  "nbformat": 4,
  "nbformat_minor": 0
}